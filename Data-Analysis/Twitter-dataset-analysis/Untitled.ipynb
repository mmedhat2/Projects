{
 "cells": [
  {
   "cell_type": "code",
   "execution_count": null,
   "id": "0f307710-164d-4653-ab12-78b8e7a20489",
   "metadata": {},
   "outputs": [],
   "source": [
    "viraldf = newdf2.copy()\n",
    "viraldf['popularity'] = viraldf[['retweet_count','favorite_count']].sum(1)\n",
    "viraldf.sort_values('popularity',ascending=False,inplace=True)\n",
    "viraldf.iloc[:,[0,-1,3,4,6,7,9]]"
   ]
  },
  {
   "cell_type": "code",
   "execution_count": null,
   "id": "2a2e1811-4ff2-49f9-a2e4-607e47552e8f",
   "metadata": {},
   "outputs": [],
   "source": [
    "viraldf = newdf2.copy()\n",
    "viraldf['popularity'] = viraldf[['retweet_count','favorite_count']].sum(1)\n",
    "viraldf.sort_values('popularity',ascending=False,inplace=True)\n",
    "viraldf.iloc[:,[0,-1,3,4,6,7,9]]"
   ]
  }
 ],
 "metadata": {
  "kernelspec": {
   "display_name": "Python 3 (ipykernel)",
   "language": "python",
   "name": "python3"
  },
  "language_info": {
   "codemirror_mode": {
    "name": "ipython",
    "version": 3
   },
   "file_extension": ".py",
   "mimetype": "text/x-python",
   "name": "python",
   "nbconvert_exporter": "python",
   "pygments_lexer": "ipython3",
   "version": "3.9.12"
  }
 },
 "nbformat": 4,
 "nbformat_minor": 5
}
