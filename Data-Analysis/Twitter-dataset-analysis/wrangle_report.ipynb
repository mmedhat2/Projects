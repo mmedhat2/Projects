{
 "cells": [
  {
   "cell_type": "markdown",
   "id": "52661e44-162e-483e-926c-1b9920d2524c",
   "metadata": {
    "jp-MarkdownHeadingCollapsed": true,
    "tags": []
   },
   "source": [
    "# Gathering phase "
   ]
  },
  {
   "cell_type": "markdown",
   "id": "614d7495-afcd-40c7-95d7-17c139cb9b0d",
   "metadata": {},
   "source": [
    "**.** First  We Started of by Loading the archive-tweets Dataset as it Was Already Downloaded"
   ]
  },
  {
   "cell_type": "markdown",
   "id": "583f5d9e-8c5f-4496-8297-bd72767a79d0",
   "metadata": {},
   "source": [
    "**.** Images Dataset Was In a url so We Imported it using Requests Module as a TSV ;Made the Dataset,downloaded it as CSV file "
   ]
  },
  {
   "cell_type": "markdown",
   "id": "86e448c7-f18f-4b73-8c70-551b63922933",
   "metadata": {},
   "source": [
    "**.** Tweets dataset was supposed to be gathered through twitter API but there was some issues in access and the file\n",
    "was downloaded as JSON file,and wrote code that can transfrom it as a dictionary and append it to a dataframe "
   ]
  },
  {
   "cell_type": "markdown",
   "id": "2f8e6818-316c-4d04-a188-bb3b45b10ba7",
   "metadata": {
    "tags": []
   },
   "source": [
    "# Assesing Phase"
   ]
  },
  {
   "cell_type": "markdown",
   "id": "77614e13-cd20-40fc-9b7f-24ca1d9b928c",
   "metadata": {
    "tags": []
   },
   "source": [
    "## Tidiness Issues"
   ]
  },
  {
   "cell_type": "markdown",
   "id": "5616f49e-85f3-4d1f-bd9f-5313a8dedca8",
   "metadata": {},
   "source": [
    ". Issue (1): Wrong Data Types (ex dates columns,id columns being int,boolean values) the columns datatypes were corrected and some columns weren't as the values were disorted"
   ]
  },
  {
   "cell_type": "markdown",
   "id": "f586f3b0-c8a4-441d-bb2b-315e325cbb85",
   "metadata": {},
   "source": [
    ".Issue (2) : Columns have mutiple values that can't be used (ex. entities column which had multiple values\n",
    "which needed to be extracted to be usefull)"
   ]
  },
  {
   "cell_type": "markdown",
   "id": "3a1283ae-eba5-4f41-a047-04769f0301da",
   "metadata": {},
   "source": [
    ".Issue (3) : unnecessary columns that can be joined (ex doggo,floofer,pupper,puppo) the values were made into a column that shows the name instead of True|False"
   ]
  },
  {
   "cell_type": "markdown",
   "id": "115e2790-7cda-4b16-8a63-f61e77ad14f1",
   "metadata": {},
   "source": [
    "## Quality Issues"
   ]
  },
  {
   "cell_type": "markdown",
   "id": "edae3148-273f-4018-b5f1-3622565e36cc",
   "metadata": {},
   "source": [
    ".issue (1) :Retweeted Tweets ; retweets were removed from the dataset as they would be considered duplicates"
   ]
  },
  {
   "cell_type": "markdown",
   "id": "d36bef8e-77de-456c-9457-db2c4272b363",
   "metadata": {},
   "source": [
    ".issue (2) :Missing Values in Archive Dataset"
   ]
  },
  {
   "cell_type": "markdown",
   "id": "580a8ed6-2581-4606-8021-95339f37057a",
   "metadata": {},
   "source": [
    ".issue (3) :Missing Values In Tweets Dataset ; Columns with more than 98% missing values were dropped"
   ]
  },
  {
   "cell_type": "markdown",
   "id": "58f9027f-7250-46db-a4be-2a45259b1f39",
   "metadata": {},
   "source": [
    ".issue (4) : Wrong Dog Names ; set to nan values so they won't affect our analysis"
   ]
  },
  {
   "cell_type": "markdown",
   "id": "d611751a-9754-441c-94c3-385c85a57387",
   "metadata": {},
   "source": [
    ".issue (5) :Wrong Image Prediction ; tweets with more than 2 images being wrong were dropped"
   ]
  },
  {
   "cell_type": "markdown",
   "id": "ecb5c47f-e7cd-4e64-a1b8-ce6e3ce98fc1",
   "metadata": {},
   "source": [
    ".issue (6) :Irregular Numbers in Counts ; retweets being high while Favourites were 0 which can be set to hidden form the user\n",
    "settings "
   ]
  },
  {
   "cell_type": "markdown",
   "id": "45aa63df-d583-4dd5-93fc-c33dede13c6b",
   "metadata": {},
   "source": [
    ".Issue ( 7 ): wrong languages abbreviations ; i didn't drop them as they didn't affect the analysis"
   ]
  },
  {
   "cell_type": "markdown",
   "id": "da74383d-0559-43fd-8b25-a98abee41c53",
   "metadata": {},
   "source": [
    ".Issue ( 8 ): missing values in entities column values in entities column were mostly missing and couldn't be extrace"
   ]
  }
 ],
 "metadata": {
  "kernelspec": {
   "display_name": "Python 3 (ipykernel)",
   "language": "python",
   "name": "python3"
  },
  "language_info": {
   "codemirror_mode": {
    "name": "ipython",
    "version": 3
   },
   "file_extension": ".py",
   "mimetype": "text/x-python",
   "name": "python",
   "nbconvert_exporter": "python",
   "pygments_lexer": "ipython3",
   "version": "3.9.12"
  }
 },
 "nbformat": 4,
 "nbformat_minor": 5
}
